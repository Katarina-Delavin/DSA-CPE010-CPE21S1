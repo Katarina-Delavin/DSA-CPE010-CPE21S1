{
  "nbformat": 4,
  "nbformat_minor": 0,
  "metadata": {
    "colab": {
      "provenance": [],
      "authorship_tag": "ABX9TyOLKGKznyUiJuSw47C7WgJy",
      "include_colab_link": true
    },
    "kernelspec": {
      "name": "python3",
      "display_name": "Python 3"
    },
    "language_info": {
      "name": "python"
    }
  },
  "cells": [
    {
      "cell_type": "markdown",
      "metadata": {
        "id": "view-in-github",
        "colab_type": "text"
      },
      "source": [
        "<a href=\"https://colab.research.google.com/github/Katarina-Delavin/DSA-CPE010-CPE21S1/blob/main/Exercise_5.ipynb\" target=\"_parent\"><img src=\"https://colab.research.google.com/assets/colab-badge.svg\" alt=\"Open In Colab\"/></a>"
      ]
    },
    {
      "cell_type": "markdown",
      "source": [
        "Example 1"
      ],
      "metadata": {
        "id": "TrYq_4wBhPDX"
      }
    },
    {
      "cell_type": "code",
      "execution_count": null,
      "metadata": {
        "colab": {
          "base_uri": "https://localhost:8080/",
          "height": 35
        },
        "id": "keyXPDVBbJwI",
        "outputId": "7d8d69c6-6feb-4cba-d153-f9bb2a6b931a"
      },
      "outputs": [
        {
          "output_type": "execute_result",
          "data": {
            "text/plain": [
              "'f'"
            ],
            "application/vnd.google.colaboratory.intrinsic+json": {
              "type": "string"
            }
          },
          "metadata": {},
          "execution_count": 3
        }
      ],
      "source": [
        "import array\n",
        "array.typecodes #get all typecodes\n",
        "a = array.array('i',[1,2,3,4,5,6,]) #initializing array a\n",
        "b = array.array('f',[1,5,2,5,3,5,4,5,5,5,6,5]) #initializing array b\n",
        "a.typecode #getting the typecode of a\n",
        "b.typecode #getting the typecode of b\n"
      ]
    },
    {
      "cell_type": "code",
      "source": [
        "import array\n",
        "array.typecodes #get all typecodes\n",
        "a = array.array('i',[1,2,3,4,5,6,]) #initializing array a\n",
        "b = array.array('f',[1,5,2,5,3,5,4,5,5,5,6,5]) #initializing array b\n",
        "a.typecode #getting the typecode of a\n",
        "b.typecode #getting the typecode of b"
      ],
      "metadata": {
        "colab": {
          "base_uri": "https://localhost:8080/",
          "height": 35
        },
        "id": "giLuDRmUc0C2",
        "outputId": "b2064f3d-46be-4db6-c975-8765332ff368"
      },
      "execution_count": null,
      "outputs": [
        {
          "output_type": "execute_result",
          "data": {
            "text/plain": [
              "'f'"
            ],
            "application/vnd.google.colaboratory.intrinsic+json": {
              "type": "string"
            }
          },
          "metadata": {},
          "execution_count": 4
        }
      ]
    },
    {
      "cell_type": "markdown",
      "source": [
        "Example 2"
      ],
      "metadata": {
        "id": "enBHZW3ahTeQ"
      }
    },
    {
      "cell_type": "code",
      "source": [
        "from array import array #importing array from array module\n",
        "a = array ('i',[4,5,6,7]) #initializing array\n",
        "a.insert(1,2) #inserting 2 at index 1\n",
        "a #printing array\n",
        "array('i',[4,5,6,7])\n",
        "a.insert(-1,0) #inserting 3 at index 2\n",
        "a #printing array\n",
        "array('i',[4,2,5,6,0,7,-1])"
      ],
      "metadata": {
        "colab": {
          "base_uri": "https://localhost:8080/"
        },
        "id": "sWHbt636c3Je",
        "outputId": "d478af03-922b-473d-84a5-2f4f27938f66"
      },
      "execution_count": null,
      "outputs": [
        {
          "output_type": "execute_result",
          "data": {
            "text/plain": [
              "array('i', [4, 2, 5, 6, 0, 7, -1])"
            ]
          },
          "metadata": {},
          "execution_count": 6
        }
      ]
    },
    {
      "cell_type": "markdown",
      "source": [
        "Example 3"
      ],
      "metadata": {
        "id": "_WGSGvHlhXew"
      }
    },
    {
      "cell_type": "code",
      "source": [
        "# Node class\n",
        "class Node:\n",
        "\n",
        "  # Function to initialize the node object\n",
        "  def __init__(self, data):\n",
        "    self.data = data  #Assign data\n",
        "    self.next = None  #Initialize next as null\n",
        "\n",
        "    # Linked List class\n",
        "class LinkedList:\n",
        "\n",
        "  # Function to initialize the Linked\n",
        "  # List object\n",
        "  def __init__(self):\n",
        "    self.head = None"
      ],
      "metadata": {
        "id": "K8EROTyyeLhW"
      },
      "execution_count": 29,
      "outputs": []
    },
    {
      "cell_type": "markdown",
      "source": [
        "Exampe 4"
      ],
      "metadata": {
        "id": "yLALXSl6ktnl"
      }
    },
    {
      "cell_type": "code",
      "source": [
        "#Code execution starts here\n",
        "if __name__=='__main__':\n",
        "\n",
        "  #Start with the empty list\n",
        "  llist = LinkedList()\n",
        "\n",
        "  llist.head = Node(1)\n",
        "  second = Node(2)\n",
        "  third = Node(3)\n",
        "\n",
        "  llist.head.next = second #Link first node with second\n",
        "  second.next = third #Link second node with the third node\n",
        "\n",
        "  llist.printdata() # Call the function on the LinkedList object"
      ],
      "metadata": {
        "colab": {
          "base_uri": "https://localhost:8080/"
        },
        "id": "GJed2E75hNzl",
        "outputId": "056c3df2-66ce-44ff-88cb-89d97a7da617"
      },
      "execution_count": 34,
      "outputs": [
        {
          "output_type": "stream",
          "name": "stdout",
          "text": [
            "1\n",
            "2\n",
            "3\n"
          ]
        }
      ]
    },
    {
      "cell_type": "markdown",
      "source": [
        "Example 3 and 4 Combined"
      ],
      "metadata": {
        "id": "SRYV2c7emexC"
      }
    },
    {
      "cell_type": "code",
      "source": [
        "# Node class\n",
        "class Node:\n",
        "\n",
        "  # Function to initialize the node object\n",
        "  def __init__(self, data):\n",
        "    self.data = data  #Assign data\n",
        "    self.next = None  #Initialize next as null\n",
        "\n",
        "    # Linked List class\n",
        "class LinkedList:\n",
        "\n",
        "  # Function to initialize the Linked\n",
        "  # List object\n",
        "  def __init__(self):\n",
        "    self.head = None\n",
        "\n",
        "  # Function to print the linked list\n",
        "  def printdata(self): # Fixed the typo in the function name\n",
        "    temp = self.head\n",
        "    while(temp):\n",
        "      print(temp.data)\n",
        "      temp = temp.next\n",
        "\n",
        "\n",
        "#Code execution starts here\n",
        "if __name__=='__main__':\n",
        "\n",
        "  #Start with the empty list\n",
        "  llist = LinkedList()\n",
        "\n",
        "  llist.head = Node(1)\n",
        "  second = Node(2)\n",
        "  third = Node(3)\n",
        "\n",
        "  llist.head.next = second #Link first node with second\n",
        "  second.next = third #Link second node with the third node\n",
        "\n",
        "  llist.printdata() # Call the function on the LinkedList object"
      ],
      "metadata": {
        "colab": {
          "base_uri": "https://localhost:8080/"
        },
        "id": "rZXGnLIIkXg1",
        "outputId": "088be052-b23c-43dd-94e7-3ab2fb1eb9f1"
      },
      "execution_count": 30,
      "outputs": [
        {
          "output_type": "stream",
          "name": "stdout",
          "text": [
            "1\n",
            "2\n",
            "3\n"
          ]
        }
      ]
    },
    {
      "cell_type": "markdown",
      "source": [
        "C++ CODE"
      ],
      "metadata": {
        "id": "kdtUJ1CEp5Ag"
      }
    },
    {
      "cell_type": "code",
      "source": [
        "#include <iostream>\n",
        "#include <string>\n",
        "using namespace std;\n",
        "int main();\n",
        "\n",
        "class Node {\n",
        "    public:\n",
        "    int value;\n",
        "    Node* next;\n",
        "\n",
        "};\n",
        "\n",
        "int main() {\n",
        "    Node* head = NULL;\n",
        "    Node* one = NULL;\n",
        "    Node* two = NULL;\n",
        "    Node* three = NULL;\n",
        "\n",
        "//allocate 3 nodes in the heap\n",
        "    one = new Node();\n",
        "    two = new Node();\n",
        "    three = new Node();\n",
        "\n",
        "//assign value values\n",
        "    one->value = 1;\n",
        "    two->value = 2;\n",
        "    three->value = 3;\n",
        "\n",
        "//connect nodes\n",
        "    one->next = two;\n",
        "    two->next = three;\n",
        "    three->next = NULL;\n",
        "\n",
        "//print the linked list value\n",
        "    head = one;\n",
        "\n",
        "    while (head != NULL) {\n",
        "        cout << head->value << endl;\n",
        "        head = head->next;\n",
        "    }\n",
        "    return 0;\n",
        "}"
      ],
      "metadata": {
        "colab": {
          "base_uri": "https://localhost:8080/",
          "height": 108
        },
        "id": "xlSkbBgLmr4t",
        "outputId": "50003510-4dc8-42ab-d6c8-945500c0342d"
      },
      "execution_count": 36,
      "outputs": [
        {
          "output_type": "error",
          "ename": "SyntaxError",
          "evalue": "invalid syntax (<ipython-input-36-76cfc8436cc8>, line 3)",
          "traceback": [
            "\u001b[0;36m  File \u001b[0;32m\"<ipython-input-36-76cfc8436cc8>\"\u001b[0;36m, line \u001b[0;32m3\u001b[0m\n\u001b[0;31m    using namespace std;\u001b[0m\n\u001b[0m          ^\u001b[0m\n\u001b[0;31mSyntaxError\u001b[0m\u001b[0;31m:\u001b[0m invalid syntax\n"
          ]
        }
      ]
    }
  ]
}