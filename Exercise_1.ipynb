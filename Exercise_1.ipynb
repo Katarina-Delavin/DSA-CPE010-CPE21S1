{
  "nbformat": 4,
  "nbformat_minor": 0,
  "metadata": {
    "colab": {
      "provenance": [],
      "authorship_tag": "ABX9TyOicB91EADB0Bf7y6PQc0yq",
      "include_colab_link": true
    },
    "kernelspec": {
      "name": "python3",
      "display_name": "Python 3"
    },
    "language_info": {
      "name": "python"
    }
  },
  "cells": [
    {
      "cell_type": "markdown",
      "metadata": {
        "id": "view-in-github",
        "colab_type": "text"
      },
      "source": [
        "<a href=\"https://colab.research.google.com/github/Katarina-Delavin/DSA-CPE010-CPE21S1/blob/main/Exercise_1.ipynb\" target=\"_parent\"><img src=\"https://colab.research.google.com/assets/colab-badge.svg\" alt=\"Open In Colab\"/></a>"
      ]
    },
    {
      "cell_type": "markdown",
      "source": [
        "Class Constructor and Method"
      ],
      "metadata": {
        "id": "drnW74rmf977"
      }
    },
    {
      "cell_type": "code",
      "source": [
        "class Rectangle:\n",
        "    def __init__(self, length, width):\n",
        "        self.length = length\n",
        "        self.width = width\n",
        "\n",
        "    def Area(self):\n",
        "        return self.length * self.width\n",
        "\n",
        "length = float(input(\"Enter length for the rectangle: \"))\n",
        "width = float(input(\"Enter width for the rectangle: \"))\n",
        "\n",
        "rectangle = Rectangle(length, width)\n",
        "area = rectangle.Area()\n",
        "\n",
        "print(\"The area of the rectangle is:\", area)"
      ],
      "metadata": {
        "colab": {
          "base_uri": "https://localhost:8080/"
        },
        "id": "SMPH0pjKc35R",
        "outputId": "09e6cd26-5efc-4232-e3e2-abe1a0c0d90e"
      },
      "execution_count": 4,
      "outputs": [
        {
          "output_type": "stream",
          "name": "stdout",
          "text": [
            "Enter length for the rectangle: 25\n",
            "Enter width for the rectangle: 13\n",
            "The area of the rectangle is: 325.0\n"
          ]
        }
      ]
    }
  ]
}