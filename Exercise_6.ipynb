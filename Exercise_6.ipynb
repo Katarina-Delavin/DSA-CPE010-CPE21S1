{
  "nbformat": 4,
  "nbformat_minor": 0,
  "metadata": {
    "colab": {
      "provenance": [],
      "authorship_tag": "ABX9TyPPkvd7TJuTbsbM+H2p+Mxl",
      "include_colab_link": true
    },
    "kernelspec": {
      "name": "python3",
      "display_name": "Python 3"
    },
    "language_info": {
      "name": "python"
    }
  },
  "cells": [
    {
      "cell_type": "markdown",
      "metadata": {
        "id": "view-in-github",
        "colab_type": "text"
      },
      "source": [
        "<a href=\"https://colab.research.google.com/github/Katarina-Delavin/DSA-CPE010-CPE21S1/blob/main/Exercise_6.ipynb\" target=\"_parent\"><img src=\"https://colab.research.google.com/assets/colab-badge.svg\" alt=\"Open In Colab\"/></a>"
      ]
    },
    {
      "cell_type": "markdown",
      "source": [
        "**QUEUE**"
      ],
      "metadata": {
        "id": "ykfwACsGYWwP"
      }
    },
    {
      "cell_type": "code",
      "execution_count": null,
      "metadata": {
        "id": "fBpqG3sHL508"
      },
      "outputs": [],
      "source": [
        "#include <iostream>\n",
        "#include <queue>\n",
        "using namespace std;\n",
        "\n",
        "void display(queue<string>pl);\n",
        "int main()\n",
        "{\n",
        "\n",
        "  queue<string>pl;\n",
        "  pl.push(\"C++\");\n",
        "  pl.push(\"Java\");\n",
        "  pl.push(\"Python\");\n",
        "  cout <<\"Initial queue: \";\n",
        "  display(pl);\n",
        "  cout << endl;\n",
        "\n",
        "  pl.pop();\n",
        "  pl.pop();\n",
        "\n",
        "  cout <<\"in\"<<\"Final queue\";\n",
        "  display(pl);\n",
        "  return 0;\n",
        "}\n",
        "\n",
        "void disply(queue<string>pl)\n",
        "{\n",
        "  while(!pl.empty()){\n",
        "    cout<<pl.front();\n",
        "    pl.pop();\n",
        " }\n",
        "}"
      ]
    },
    {
      "cell_type": "markdown",
      "source": [
        "**STACK**"
      ],
      "metadata": {
        "id": "fy5rSVuKYz-J"
      }
    },
    {
      "cell_type": "code",
      "source": [
        "#include <iostream>\n",
        "#include <stack>\n",
        "using namespace std;\n",
        "\n",
        "void display(stack<string>pl);\n",
        "int main()\n",
        "{\n",
        "\n",
        "  stack<string>pl;\n",
        "  pl.push(\"C++\");\n",
        "  pl.push(\"Java\");\n",
        "  pl.push(\"Python\");\n",
        "  cout <<\"Initial stack: \";display(pl);\n",
        "\n",
        "  pl.pop();\n",
        "  pl.pop();\n",
        "  cout <<\"Final stack: \";display(pl);\n",
        "  return 0;\n",
        "}\n",
        "\n",
        "void display(stack<string>pl)\n",
        "{\n",
        "  while(!pl.empty()){\n",
        "    cout<<pl.top()<<\" \";\n",
        "    pl.pop();\n",
        "  }\n",
        "}"
      ],
      "metadata": {
        "id": "G5JFOyiVZQth"
      },
      "execution_count": null,
      "outputs": []
    }
  ]
}