{
  "nbformat": 4,
  "nbformat_minor": 0,
  "metadata": {
    "colab": {
      "provenance": [],
      "authorship_tag": "ABX9TyN6ZTbrIaRVJXjTmAWafdAn",
      "include_colab_link": true
    },
    "kernelspec": {
      "name": "python3",
      "display_name": "Python 3"
    },
    "language_info": {
      "name": "python"
    }
  },
  "cells": [
    {
      "cell_type": "markdown",
      "metadata": {
        "id": "view-in-github",
        "colab_type": "text"
      },
      "source": [
        "<a href=\"https://colab.research.google.com/github/Katarina-Delavin/DSA-CPE010-CPE21S1/blob/main/Exercise_3.ipynb\" target=\"_parent\"><img src=\"https://colab.research.google.com/assets/colab-badge.svg\" alt=\"Open In Colab\"/></a>"
      ]
    },
    {
      "cell_type": "markdown",
      "source": [
        "Adjective and Reverse Array"
      ],
      "metadata": {
        "id": "OGDYtVlNpHta"
      }
    },
    {
      "cell_type": "code",
      "source": [
        "animals = [\"hamster\", \"dog\", \"capybara\"]\n",
        "adjectives = [\"lovely\", \"beautiful\", \"silly\"]\n",
        "\n",
        "animals.reverse()\n",
        "adjectives.reverse()\n",
        "\n",
        "for animal in animals:\n",
        "    for adjective in adjectives:\n",
        "        print(animal, adjective)\n"
      ],
      "metadata": {
        "colab": {
          "base_uri": "https://localhost:8080/"
        },
        "id": "Io9Q0qSTpzeU",
        "outputId": "8925bdc1-dde3-4751-af71-defc388305ee"
      },
      "execution_count": 11,
      "outputs": [
        {
          "output_type": "stream",
          "name": "stdout",
          "text": [
            "capybara silly\n",
            "capybara beautiful\n",
            "capybara lovely\n",
            "dog silly\n",
            "dog beautiful\n",
            "dog lovely\n",
            "hamster silly\n",
            "hamster beautiful\n",
            "hamster lovely\n"
          ]
        }
      ]
    }
  ]
}