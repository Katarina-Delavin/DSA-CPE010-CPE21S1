{
  "nbformat": 4,
  "nbformat_minor": 0,
  "metadata": {
    "colab": {
      "provenance": [],
      "authorship_tag": "ABX9TyOrl5/gArjNtswp0rtWfrJA",
      "include_colab_link": true
    },
    "kernelspec": {
      "name": "python3",
      "display_name": "Python 3"
    },
    "language_info": {
      "name": "python"
    }
  },
  "cells": [
    {
      "cell_type": "markdown",
      "metadata": {
        "id": "view-in-github",
        "colab_type": "text"
      },
      "source": [
        "<a href=\"https://colab.research.google.com/github/Katarina-Delavin/DSA-CPE010-CPE21S1/blob/main/Exercise_4.ipynb\" target=\"_parent\"><img src=\"https://colab.research.google.com/assets/colab-badge.svg\" alt=\"Open In Colab\"/></a>"
      ]
    },
    {
      "cell_type": "code",
      "execution_count": 5,
      "metadata": {
        "colab": {
          "base_uri": "https://localhost:8080/"
        },
        "id": "rjlZulJ-zxNu",
        "outputId": "7155cc95-4e03-4728-f461-1597ad484754"
      },
      "outputs": [
        {
          "output_type": "stream",
          "name": "stdout",
          "text": [
            "rezirutsioM\n",
            "mureS\n",
            "renoT\n",
            "resnaelC\n"
          ]
        }
      ],
      "source": [
        "skincare = ['Moisturizer','Serum','Toner','Cleanser']\n",
        "for name in skincare:\n",
        "    print(name[::-1])"
      ]
    }
  ]
}