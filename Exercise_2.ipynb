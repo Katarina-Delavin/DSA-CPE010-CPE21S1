{
  "nbformat": 4,
  "nbformat_minor": 0,
  "metadata": {
    "colab": {
      "provenance": [],
      "authorship_tag": "ABX9TyMkNowm9CUt06PPLgGtF5za",
      "include_colab_link": true
    },
    "kernelspec": {
      "name": "python3",
      "display_name": "Python 3"
    },
    "language_info": {
      "name": "python"
    }
  },
  "cells": [
    {
      "cell_type": "markdown",
      "metadata": {
        "id": "view-in-github",
        "colab_type": "text"
      },
      "source": [
        "<a href=\"https://colab.research.google.com/github/Katarina-Delavin/DSA-CPE010-CPE21S1/blob/main/Exercise_2.ipynb\" target=\"_parent\"><img src=\"https://colab.research.google.com/assets/colab-badge.svg\" alt=\"Open In Colab\"/></a>"
      ]
    },
    {
      "cell_type": "code",
      "source": [
        "class Rectangle:\n",
        "    def __init__(self, length, width):\n",
        "        self.length = length\n",
        "        self.width = width\n",
        "\n",
        "    def Area(self):\n",
        "        return self.length * self.width\n",
        "\n",
        "class Triangle:\n",
        "    def __init__(self, base, height):\n",
        "        self.base = base\n",
        "        self.height = height\n",
        "\n",
        "    def Area(self):\n",
        "        return 0.5 * self.base * self.height\n",
        "\n",
        "class Square:\n",
        "    def __init__(self, side):\n",
        "        self.side = side\n",
        "\n",
        "    def Area(self):\n",
        "        return self.side * self.side\n",
        "\n",
        "# Input for Rectangle\n",
        "length = float(input(\"Enter length for the rectangle: \"))\n",
        "width = float(input(\"Enter width for the rectangle: \"))\n",
        "rectangle = Rectangle(length, width)\n",
        "print(\"The area of the rectangle is:\", rectangle.Area())\n",
        "\n",
        "# Input for Triangle\n",
        "base = float(input(\"Enter base for the triangle: \"))\n",
        "height = float(input(\"Enter height for the triangle: \"))\n",
        "triangle = Triangle(base, height)\n",
        "print(\"The area of the triangle is:\", triangle.Area())\n",
        "\n",
        "# Input for Square\n",
        "side = float(input(\"Enter side length for the square: \"))\n",
        "square = Square(side)\n",
        "print(\"The area of the square is:\", square.Area())"
      ],
      "metadata": {
        "colab": {
          "base_uri": "https://localhost:8080/"
        },
        "id": "tdx0B4RiUy7N",
        "outputId": "d606c99e-e4b3-4a29-b127-53039a358f19"
      },
      "execution_count": 9,
      "outputs": [
        {
          "output_type": "stream",
          "name": "stdout",
          "text": [
            "Enter length for the rectangle: 13\n",
            "Enter width for the rectangle: 25\n",
            "The area of the rectangle is: 325.0\n",
            "Enter base for the triangle: 5\n",
            "Enter height for the triangle: 12\n",
            "The area of the triangle is: 30.0\n",
            "Enter side length for the square: 25\n",
            "The area of the square is: 625.0\n"
          ]
        }
      ]
    }
  ]
}